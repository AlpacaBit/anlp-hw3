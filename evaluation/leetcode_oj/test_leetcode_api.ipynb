{
 "cells": [
  {
   "cell_type": "code",
   "execution_count": 1,
   "metadata": {},
   "outputs": [
    {
     "name": "stdout",
     "output_type": "stream",
     "text": [
      "ok\n"
     ]
    }
   ],
   "source": [
    "print(\"ok\")"
   ]
  },
  {
   "cell_type": "code",
   "execution_count": 1,
   "metadata": {},
   "outputs": [],
   "source": [
    "import os"
   ]
  },
  {
   "cell_type": "code",
   "execution_count": 2,
   "metadata": {},
   "outputs": [],
   "source": [
    "from __future__ import annotations\n",
    "\n",
    "import os\n",
    "from time import sleep\n",
    "\n",
    "import leetcode\n",
    "\n",
    "# Initialize client\n",
    "configuration = leetcode.Configuration()\n",
    "\n",
    "# NOTE: cookies var is just a dict with `csrftoken` and `LEETCODE_SESSION`\n",
    "# fields which contain corresponding cookies from web browser\n",
    "os.environ[\"LEETCODE_SESSION\"] = \"eyJ0eXAiOiJKV1QiLCJhbGciOiJIUzI1NiJ9.eyJfYXV0aF91c2VyX2lkIjoiMTY5MzMwOTkiLCJfYXV0aF91c2VyX2JhY2tlbmQiOiJhbGxhdXRoLmFjY291bnQuYXV0aF9iYWNrZW5kcy5BdXRoZW50aWNhdGlvbkJhY2tlbmQiLCJfYXV0aF91c2VyX2hhc2giOiIyYmJmYWVmZTI3MTI5MDA3ODRlZmQ3MzE5MGUzMTg1NjMyZDk4M2NmYWIzMDlhOTZkZDRjNzlhNWMyYmI1N2Y0Iiwic2Vzc2lvbl91dWlkIjoiMzc1ZThmZWEiLCJpZCI6MTY5MzMwOTksImVtYWlsIjoiUnVieUJyaWdodGRwcWtAaG90bWFpbC5jb20iLCJ1c2VybmFtZSI6ImRoZGpzYm5qcyIsInVzZXJfc2x1ZyI6ImRoZGpzYm5qcyIsImF2YXRhciI6Imh0dHBzOi8vYXNzZXRzLmxlZXRjb2RlLmNvbS91c2Vycy9kZWZhdWx0X2F2YXRhci5qcGciLCJyZWZyZXNoZWRfYXQiOjE3NDI4NzUyNzEsImlwIjoiMjYwMTo1NDc6NzAxOjhmZjA6NzVmNDpiZDg5OjY4NjU6ODQ4ZSIsImlkZW50aXR5IjoiYjk3N2UxMGQxY2IyNjEwNzkwOWU5N2Q1MWE2ODgzMjMiLCJkZXZpY2Vfd2l0aF9pcCI6WyI1MGVhMjNjYzE2OTA0MDg0ZjJlYjdkZWY5MzRmZmIyOCIsIjI2MDE6NTQ3OjcwMTo4ZmYwOjc1ZjQ6YmQ4OTo2ODY1Ojg0OGUiXSwiX3Nlc3Npb25fZXhwaXJ5IjoxMjA5NjAwfQ.GDgUATJxTRWip8Nco2BLU-2uGFs2jsQJR1eIZ9IA5pw\"\n",
    "os.environ[\"CSRF_TOKEN\"] = \"76w8xbCVRXDit1mbZLYpYH9RF8r2GLcK9ozXuP25UTm1QkDe5WFaYjLxFC4F80zb\"\n",
    "leetcode_session: str = os.environ[\"LEETCODE_SESSION\"]\n",
    "\n",
    "csrf_token = os.environ[\"CSRF_TOKEN\"]\n",
    "\n",
    "configuration.api_key[\"x-csrftoken\"] = csrf_token\n",
    "configuration.api_key[\"csrftoken\"] = csrf_token\n",
    "configuration.api_key[\"LEETCODE_SESSION\"] = leetcode_session\n",
    "configuration.api_key[\"Referer\"] = \"https://leetcode.com\"\n",
    "configuration.debug = False\n",
    "\n",
    "api_instance = leetcode.DefaultApi(leetcode.ApiClient(configuration))\n"
   ]
  },
  {
   "cell_type": "code",
   "execution_count": 3,
   "metadata": {},
   "outputs": [],
   "source": [
    "code = \"\"\"\n",
    "class Solution {\n",
    "public:\n",
    "    void bfs(int prevcolor,int row,int col,int color,vector<vector<int>>&visited,vector<vector<int>>&image)\n",
    "    {\n",
    "        // it'll ease the work\n",
    "        queue<pair<int,int>> q;\n",
    "        q.push({row,col});\n",
    "        visited[row][col]=1;\n",
    "\n",
    "        while(!q.empty())\n",
    "        {\n",
    "            int r = q.front().first;\n",
    "            int c = q.front().second;\n",
    "            q.pop();\n",
    "\n",
    "            if(image[r][c]==prevcolor) \n",
    "              image[r][c]=color;\n",
    "            \n",
    "            // up\n",
    "            if(r-1>=0 && !visited[r-1][c] && image[r-1][c]==prevcolor) \n",
    "              {q.push({r-1,c}); visited[r-1][c]=1;image[r-1][c]=color;}\n",
    "            // right\n",
    "            if(c+1<image[0].size() &&  !visited[r][c+1] && image[r][c+1]==prevcolor) \n",
    "              {q.push({r,c+1}); visited[r][c+1]=1;image[r][c+1]=color;}\n",
    "            //down\n",
    "            if(r+1<image.size() && !visited[r+1][c] && image[r+1][c]==prevcolor) \n",
    "              {q.push({r+1,c}); visited[r+1][c]=1; image[r+1][c]=color;}\n",
    "\n",
    "            // left\n",
    "            if(c-1>=0 && !visited[r][c-1] && image[r][c-1]==prevcolor) \n",
    "              {q.push({r,c-1}); visited[r][c-1]=1;image[r][c-1]=color;}\n",
    "        }\n",
    "    }\n",
    "    vector<vector<int>> floodFill(vector<vector<int>>& image, int sr, int sc, int color) {\n",
    "          int prevcolor = image[sr][sc];\n",
    "\n",
    "          // visiting array.\n",
    "          vector<vector<int>> visited(image.size(),vector<int>(image[0].size(),0));\n",
    "\n",
    "          bfs(prevcolor,sr,sc,color,visited,image);\n",
    "\n",
    "          return image;\n",
    "    }\n",
    "};\n",
    "\"\"\""
   ]
  },
  {
   "cell_type": "code",
   "execution_count": 4,
   "metadata": {},
   "outputs": [],
   "source": [
    "submission = leetcode.Submission(\n",
    "    judge_type=\"large\", typed_code=code, question_id=733, test_mode=False, lang=\"cpp\"\n",
    ")\n",
    "\n",
    "submission_id = api_instance.problems_problem_submit_post(\n",
    "    problem=\"flood-fill\", body=submission\n",
    ")\n"
   ]
  },
  {
   "cell_type": "code",
   "execution_count": 5,
   "metadata": {},
   "outputs": [
    {
     "name": "stdout",
     "output_type": "stream",
     "text": [
      "Submission has been queued. Result:\n",
      "{'submission_id': 1585135033}\n"
     ]
    }
   ],
   "source": [
    "print(\"Submission has been queued. Result:\")\n",
    "print(submission_id)\n",
    "\n",
    "sleep(5)  # FIXME: should probably be a busy-waiting loop\n",
    "\n",
    "submission_result = api_instance.submissions_detail_id_check_get(\n",
    "    id=submission_id.submission_id\n",
    ")"
   ]
  },
  {
   "cell_type": "code",
   "execution_count": 6,
   "metadata": {},
   "outputs": [
    {
     "name": "stdout",
     "output_type": "stream",
     "text": [
      "Got submission result:\n",
      "{'status_code': 10, 'lang': 'cpp', 'run_success': True, 'status_runtime': '1 ms', 'memory': 18468000, 'display_runtime': '1', 'question_id': 733, 'elapsed_time': 42, 'compare_result': '11111111111111111111111111111111111111111111111111111111111111111111111111111111111111111111111111111111111111111111111111111111111111111111111111111111111111111111111111111111111111111111111111111111111111111111111111111111111111111111111111111111111111111111111111111111111111', 'code_output': '', 'std_output': '', 'last_testcase': '', 'expected_output': '', 'task_finish_time': 1742875581336, 'task_name': 'judger.judgetask.Judge', 'finished': True, 'total_correct': 278, 'total_testcases': 278, 'runtime_percentile': 22.865700000000004, 'status_memory': '18.5 MB', 'memory_percentile': 23.4832, 'pretty_lang': 'C++', 'submission_id': '1585135033', 'status_msg': 'Accepted', 'state': 'SUCCESS'}\n"
     ]
    }
   ],
   "source": [
    "print(\"Got submission result:\")\n",
    "print(submission_result)\n"
   ]
  },
  {
   "cell_type": "code",
   "execution_count": null,
   "metadata": {},
   "outputs": [],
   "source": []
  }
 ],
 "metadata": {
  "kernelspec": {
   "display_name": "anlp-hw3",
   "language": "python",
   "name": "python3"
  },
  "language_info": {
   "codemirror_mode": {
    "name": "ipython",
    "version": 3
   },
   "file_extension": ".py",
   "mimetype": "text/x-python",
   "name": "python",
   "nbconvert_exporter": "python",
   "pygments_lexer": "ipython3",
   "version": "3.10.16"
  }
 },
 "nbformat": 4,
 "nbformat_minor": 2
}
