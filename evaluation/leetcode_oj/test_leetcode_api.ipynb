{
 "cells": [
  {
   "cell_type": "code",
   "execution_count": null,
   "metadata": {},
   "outputs": [],
   "source": [
    "print(\"ok\")"
   ]
  },
  {
   "cell_type": "code",
   "execution_count": 23,
   "metadata": {},
   "outputs": [],
   "source": [
    "import os"
   ]
  },
  {
   "cell_type": "code",
   "execution_count": 24,
   "metadata": {},
   "outputs": [],
   "source": [
    "from __future__ import annotations\n",
    "\n",
    "import os\n",
    "from time import sleep\n",
    "\n",
    "import leetcode\n",
    "\n",
    "# Initialize client\n",
    "configuration = leetcode.Configuration()\n",
    "\n",
    "# NOTE: cookies var is just a dict with `csrftoken` and `LEETCODE_SESSION`\n",
    "# fields which contain corresponding cookies from web browser\n",
    "leetcode_session: str = os.environ[\"LEETCODE_SESSION\"]\n",
    "\n",
    "csrf_token = os.environ[\"CSRF_TOKEN\"]\n",
    "\n",
    "configuration.api_key[\"x-csrftoken\"] = csrf_token\n",
    "configuration.api_key[\"csrftoken\"] = csrf_token\n",
    "configuration.api_key[\"LEETCODE_SESSION\"] = leetcode_session\n",
    "configuration.api_key[\"Referer\"] = \"https://leetcode.com\"\n",
    "configuration.debug = False\n",
    "\n",
    "api_instance = leetcode.DefaultApi(leetcode.ApiClient(configuration))\n"
   ]
  },
  {
   "cell_type": "code",
   "execution_count": 25,
   "metadata": {},
   "outputs": [],
   "source": [
    "code = \"\"\"\n",
    "class Solution {\n",
    "public:\n",
    "    void bfs(int prevcolor,int row,int col,int color,vector<vector<int>>&visited,vector<vector<int>>&image)\n",
    "    {\n",
    "        // it'll ease the work\n",
    "        queue<pair<int,int>> q;\n",
    "        q.push({row,col});\n",
    "        visited[row][col]=1;\n",
    "\n",
    "        while(!q.empty())\n",
    "        {\n",
    "            int r = q.front().first;\n",
    "            int c = q.front().second;\n",
    "            q.pop();\n",
    "\n",
    "            if(image[r][c]==prevcolor) \n",
    "              image[r][c]=color;\n",
    "            \n",
    "            // up\n",
    "            if(r-1>=0 && !visited[r-1][c] && image[r-1][c]==prevcolor) \n",
    "              {q.push({r-1,c}); visited[r-1][c]=1;image[r-1][c]=color;}\n",
    "            // right\n",
    "            if(c+1<image[0].size() &&  !visited[r][c+1] && image[r][c+1]==prevcolor) \n",
    "              {q.push({r,c+1}); visited[r][c+1]=1;image[r][c+1]=color;}\n",
    "            //down\n",
    "            if(r+1<image.size() && !visited[r+1][c] && image[r+1][c]==prevcolor) \n",
    "              {q.push({r+1,c}); visited[r+1][c]=1; image[r+1][c]=color;}\n",
    "\n",
    "            // left\n",
    "            if(c-1>=0 && !visited[r][c-1] && image[r][c-1]==prevcolor) \n",
    "              {q.push({r,c-1}); visited[r][c-1]=1;image[r][c-1]=color;}\n",
    "        }\n",
    "    }\n",
    "    vector<vector<int>> floodFill(vector<vector<int>>& image, int sr, int sc, int color) {\n",
    "          int prevcolor = image[sr][sc];\n",
    "\n",
    "          // visiting array.\n",
    "          vector<vector<int>> visited(image.size(),vector<int>(image[0].size(),0));\n",
    "\n",
    "          bfs(prevcolor,sr,sc,color,visited,image);\n",
    "\n",
    "          return image;\n",
    "    }\n",
    "};\n",
    "\"\"\""
   ]
  },
  {
   "cell_type": "code",
   "execution_count": null,
   "metadata": {},
   "outputs": [],
   "source": [
    "submission = leetcode.Submission(\n",
    "    judge_type=\"large\", typed_code=code, question_id=733, test_mode=False, lang=\"cpp\"\n",
    ")\n",
    "\n",
    "submission_id = api_instance.problems_problem_submit_post(\n",
    "    problem=\"flood-fill\", body=submission\n",
    ")\n"
   ]
  },
  {
   "cell_type": "code",
   "execution_count": null,
   "metadata": {},
   "outputs": [],
   "source": [
    "print(\"Submission has been queued. Result:\")\n",
    "print(submission_id)\n",
    "\n",
    "sleep(5)  # FIXME: should probably be a busy-waiting loop\n",
    "\n",
    "submission_result = api_instance.submissions_detail_id_check_get(\n",
    "    id=submission_id.submission_id\n",
    ")"
   ]
  },
  {
   "cell_type": "code",
   "execution_count": null,
   "metadata": {},
   "outputs": [],
   "source": [
    "print(\"Got submission result:\")\n",
    "print(submission_result)\n"
   ]
  },
  {
   "cell_type": "code",
   "execution_count": null,
   "metadata": {},
   "outputs": [],
   "source": []
  },
  {
   "cell_type": "markdown",
   "metadata": {},
   "source": [
    "## use selenium to get the cookiee"
   ]
  },
  {
   "cell_type": "code",
   "execution_count": null,
   "metadata": {},
   "outputs": [],
   "source": [
    "from selenium import webdriver\n",
    "from selenium.webdriver.chrome.service import Service\n",
    "from selenium.webdriver.chrome.options import Options\n",
    "import time\n",
    "\n",
    "# --- Setup Chrome driver ---\n",
    "options = Options()\n",
    "options.add_argument(\n",
    "    \"--start-maximized\"\n",
    ")  # remove \"--headless\" so you can log in manually\n",
    "driver = webdriver.Chrome(service=Service(), options=options)\n",
    "\n",
    "# --- Open LeetCode Login Page ---\n",
    "driver.get(\"https://leetcode.com/accounts/login/\")\n",
    "\n",
    "# --- Wait for manual login ---\n",
    "print(\n",
    "    \"🔐 Please log in manually in the browser window (Google, GitHub, or credentials)...\"\n",
    ")\n",
    "time.sleep(60)  # Give yourself time to log in\n",
    "\n",
    "# --- Grab cookies ---\n",
    "cookies = driver.get_cookies()\n",
    "\n",
    "# --- Extract required cookies ---\n",
    "leetcode_session = None\n",
    "csrf_token = None\n",
    "\n",
    "for cookie in cookies:\n",
    "    if cookie[\"name\"] == \"LEETCODE_SESSION\":\n",
    "        leetcode_session = cookie[\"value\"]\n",
    "    elif cookie[\"name\"] == \"csrftoken\":\n",
    "        csrf_token = cookie[\"value\"]\n",
    "\n",
    "print(\"\\n✅ Cookie values retrieved:\")\n",
    "print(\"LEETCODE_SESSION:\", leetcode_session)\n",
    "print(\"csrftoken:\", csrf_token)\n",
    "\n",
    "# Optionally save cookies for later use\n",
    "# import pickle\n",
    "# with open(\"leetcode_cookies.pkl\", \"wb\") as f:\n",
    "#     pickle.dump(cookies, f)\n",
    "\n",
    "driver.quit()\n"
   ]
  },
  {
   "cell_type": "code",
   "execution_count": null,
   "metadata": {},
   "outputs": [],
   "source": []
  }
 ],
 "metadata": {
  "kernelspec": {
   "display_name": "debugbench",
   "language": "python",
   "name": "python3"
  },
  "language_info": {
   "codemirror_mode": {
    "name": "ipython",
    "version": 3
   },
   "file_extension": ".py",
   "mimetype": "text/x-python",
   "name": "python",
   "nbconvert_exporter": "python",
   "pygments_lexer": "ipython3",
   "version": "3.10.16"
  }
 },
 "nbformat": 4,
 "nbformat_minor": 2
}
